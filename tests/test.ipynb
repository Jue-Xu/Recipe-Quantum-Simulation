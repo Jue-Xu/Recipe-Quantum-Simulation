{
 "cells": [
  {
   "cell_type": "markdown",
   "id": "e385a43f",
   "metadata": {},
   "source": [
    "# Test"
   ]
  },
  {
   "cell_type": "code",
   "execution_count": 5,
   "id": "6dd25106",
   "metadata": {},
   "outputs": [
    {
     "name": "stdout",
     "output_type": "stream",
     "text": [
      "# packages in environment at /opt/homebrew/Caskroom/miniforge/base/envs/hsim:\n",
      "#\n",
      "# Name                    Version                   Build  Channel\n"
     ]
    }
   ],
   "source": [
    "!conda list quantum"
   ]
  },
  {
   "cell_type": "code",
   "execution_count": 16,
   "id": "8c03d3e4",
   "metadata": {},
   "outputs": [
    {
     "data": {
      "text/plain": [
       "SparsePauliOp(['IIII'],\n",
       "              coeffs=[0.+0.j])"
      ]
     },
     "execution_count": 16,
     "metadata": {},
     "output_type": "execute_result"
    }
   ],
   "source": [
    "import sys\n",
    "sys.path.append('../')\n",
    "import quantum_simulation_recipe as qsr\n",
    "from quantum_simulation_recipe import spin\n",
    "\n",
    "H = spin.Nearest_Neighbour_1d(4)\n",
    "H.ham\n",
    "# H.ham_xyz"
   ]
  }
 ],
 "metadata": {
  "kernelspec": {
   "display_name": "hsim",
   "language": "python",
   "name": "python3"
  },
  "language_info": {
   "codemirror_mode": {
    "name": "ipython",
    "version": 3
   },
   "file_extension": ".py",
   "mimetype": "text/x-python",
   "name": "python",
   "nbconvert_exporter": "python",
   "pygments_lexer": "ipython3",
   "version": "3.10.19"
  }
 },
 "nbformat": 4,
 "nbformat_minor": 5
}
